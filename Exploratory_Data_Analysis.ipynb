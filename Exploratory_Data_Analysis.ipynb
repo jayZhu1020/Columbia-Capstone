{
  "nbformat": 4,
  "nbformat_minor": 0,
  "metadata": {
    "colab": {
      "provenance": [],
      "collapsed_sections": []
    },
    "kernelspec": {
      "name": "python3",
      "display_name": "Python 3"
    },
    "language_info": {
      "name": "python"
    }
  },
  "cells": [
    {
      "cell_type": "markdown",
      "source": [
        "# Capstone Project Code"
      ],
      "metadata": {
        "id": "oE3-bupdzpX7"
      }
    },
    {
      "cell_type": "markdown",
      "source": [
        "## Load Packages"
      ],
      "metadata": {
        "id": "wryDKz6kz4Gp"
      }
    },
    {
      "cell_type": "code",
      "source": [
        "import pandas as pd\n",
        "import numpy as np\n",
        "import warnings\n",
        "import seaborn as sns\n",
        "import os\n",
        "import matplotlib.pyplot as plt\n",
        "from datetime import datetime\n",
        "import plotly.express as px\n",
        "import matplotlib as mpl\n",
        "import tensorflow as tf\n",
        "from sklearn import linear_model\n",
        "from sklearn.metrics import mean_squared_error, r2_score\n",
        "warnings.filterwarnings(\"ignore\")\n",
        "mpl.rcParams['figure.figsize'] = (10, 8)\n",
        "mpl.rcParams['axes.grid'] = False\n",
        "from google.colab import drive\n",
        "drive.mount('/content/drive')"
      ],
      "metadata": {
        "colab": {
          "base_uri": "https://localhost:8080/"
        },
        "id": "HDIhEmcXh5-f",
        "outputId": "0525336a-3199-4f03-adf7-51185ab88289"
      },
      "execution_count": 1,
      "outputs": [
        {
          "output_type": "stream",
          "name": "stdout",
          "text": [
            "Mounted at /content/drive\n"
          ]
        }
      ]
    },
    {
      "cell_type": "markdown",
      "source": [
        "##Initial Exploration\n",
        "- Load Data\n",
        "- Explore Data Pattern\n",
        "- Explore Missing Values\n"
      ],
      "metadata": {
        "id": "EhhTeq2B0LVX"
      }
    },
    {
      "cell_type": "markdown",
      "source": [
        "### Load Data"
      ],
      "metadata": {
        "id": "aiJR3EHM2_mR"
      }
    },
    {
      "cell_type": "code",
      "source": [
        "A01_17= pd.read_hdf('/content/drive/MyDrive/pressure_data/A01_CMPR_COMPRESSOR_SUPPLY_PRESSURE_20161231_366days.hdf')"
      ],
      "metadata": {
        "id": "FUIPSxBdjmmp"
      },
      "execution_count": 2,
      "outputs": []
    },
    {
      "cell_type": "code",
      "source": [
        "W01 = pd.read_hdf('/content/drive/MyDrive/weather/WeatherStationController_MeteoCentral_TEMPERATURE_20161231_366days.hdf')"
      ],
      "metadata": {
        "id": "Hynt2s0-kDoK"
      },
      "execution_count": 3,
      "outputs": []
    },
    {
      "cell_type": "markdown",
      "source": [
        "### Explore Data Pattern"
      ],
      "metadata": {
        "id": "l0tt2kkT3ZuZ"
      }
    },
    {
      "cell_type": "code",
      "source": [
        "def decompose_date_time(df):\n",
        "  df['day'] = df['Date'].dt.day\n",
        "  df['month'] = df['Date'].dt.month\n",
        "  df['year'] = df['Date'].dt.year\n",
        "  df['hour'] = df['Date'].dt.hour\n",
        "  df['minute'] = df['Date'].dt.minute\n",
        "  df['second'] = df['Date'].dt.second"
      ],
      "metadata": {
        "id": "luq3dgSlLtMb"
      },
      "execution_count": 4,
      "outputs": []
    },
    {
      "cell_type": "code",
      "source": [
        "ABS_PATH = '/content/drive/MyDrive/'\n",
        "\n",
        "def read_and_merge_data(data_type):\n",
        "  '''\n",
        "  read_and_merge_data('weather') returns a dictionary that maps\n",
        "    location to the weather data with columns 'Date' and 'Data'\n",
        "\n",
        "  read_and_merge_data('pressure_data') returns a dictionary that maps\n",
        "    location to the pressure data with columns 'Date' and 'Data'\n",
        "  '''\n",
        "  path = ABS_PATH + data_type\n",
        "  os.chdir(path)\n",
        "  filenames = os.listdir()\n",
        "  filenames.sort()\n",
        "  data_ret = {}\n",
        "  # collect data of the same lcoation\n",
        "  for i in range(len(filenames)//3):\n",
        "    curr_files = filenames[i*3:i*3+3]\n",
        "    if data_type == \"weather\":\n",
        "      curr_loc = curr_files[0].split('_')[1]\n",
        "    else:\n",
        "      curr_loc = curr_files[0].split('_')[0]\n",
        "\n",
        "    dfs = []\n",
        "    for file in curr_files:\n",
        "      file_path = f\"{path}/{file}\"\n",
        "      df = pd.read_hdf(file_path)\n",
        "      df.reset_index(inplace = True)\n",
        "      mapping = {df.columns[0]:'Date', df.columns[1]: 'Data'}\n",
        "      df = df.rename(columns=mapping)\n",
        "      decompose_date_time(df)\n",
        "      dfs.append(df)\n",
        "    data_ret[curr_loc] = pd.concat(dfs)\n",
        "  return data_ret"
      ],
      "metadata": {
        "id": "PfoVq9bVLtpL"
      },
      "execution_count": 5,
      "outputs": []
    },
    {
      "cell_type": "code",
      "source": [
        "weather_data = read_and_merge_data(\"weather\")\n",
        "pressure_data = read_and_merge_data(\"pressure_data\")"
      ],
      "metadata": {
        "id": "UCwpVm31LvcN"
      },
      "execution_count": 6,
      "outputs": []
    },
    {
      "cell_type": "code",
      "source": [
        "weather_data.keys()"
      ],
      "metadata": {
        "colab": {
          "base_uri": "https://localhost:8080/"
        },
        "id": "mU0ipaPQMdYG",
        "outputId": "f7fb0a26-51fe-4907-eb1c-fcd0511ad804"
      },
      "execution_count": 7,
      "outputs": [
        {
          "output_type": "execute_result",
          "data": {
            "text/plain": [
              "dict_keys(['MeteoCentral', 'MeteoTB2'])"
            ]
          },
          "metadata": {},
          "execution_count": 7
        }
      ]
    },
    {
      "cell_type": "code",
      "source": [
        "def scatter_day_data_in_year(pressure, weather, year):\n",
        "  pressure_year_data = pressure[pressure['year'] == year]\n",
        "  weather_year_data = weather[weather['year'] == year]\n",
        "  fig, axes = plt.subplots(1, 2, figsize=(16, 4.5), sharex=True, sharey=True)\n",
        "  r_2 = []\n",
        "  MSE = []\n",
        "  for month in range(1, 3):\n",
        "    pressure_month_data = pressure_year_data[pressure_year_data['month'] == month][['day', 'hour', 'Data']]\n",
        "    weather_month_data = weather_year_data[weather_year_data['month'] == month][['day', 'hour', 'Data']]\n",
        "    # daily_min = month_data.groupby('day').min()\n",
        "    # daily_max = month_data.groupby('day').max()\n",
        "    # daily_median = month_data.groupby('day').median()\n",
        "    pressure_daily_median = pressure_month_data.groupby(['day', 'hour']).median()\n",
        "    weather_daily_median = weather_month_data.groupby(['day', 'hour']).median()\n",
        "    pressure_daily_median = pressure_daily_median.rename(columns={\"Data\":\"pressure\"})\n",
        "    weather_daily_median = weather_daily_median.rename(columns={\"Data\":\"weather\"})\n",
        "    median_table = pd.concat([weather_daily_median, pressure_daily_median], axis=1)\n",
        "    median_table = median_table.dropna()\n",
        "    \n",
        "    regr = linear_model.LinearRegression()\n",
        "    regr.fit(median_table['weather'].to_numpy().reshape(-1,1), median_table['pressure'].to_numpy().reshape(-1,1))\n",
        "    pressure_pred = regr.predict(median_table['weather'].to_numpy().reshape(-1,1))\n",
        "\n",
        "    r_2.append(r2_score(median_table['pressure'].to_numpy().reshape(-1,1), pressure_pred))\n",
        "    MSE.append(mean_squared_error(median_table['pressure'].to_numpy().reshape(-1,1), pressure_pred))\n",
        "\n",
        "    axes[month-1].scatter(data=median_table, x='weather', y='pressure')\n",
        "    axes[month-1].plot(median_table['weather'], pressure_pred, color=\"blue\", linewidth=3)\n",
        "    axes[month-1].set_title(\"2017-0\"+str(month))\n",
        "    axes[month-1].set(xlabel=\"temperature\")\n",
        "    axes[month-1].set(ylabel=\"pressure\")\n",
        "\n",
        "  fig.suptitle('A04, MeteoTB2: Hourly Pressure vs Temperature in 2017 Jan, Feb', fontsize=15)\n",
        "  metrics = pd.DataFrame(list(zip(r_2, MSE)),columns =['r_squared', 'MSE'], \\\n",
        "                         index =['Jan', 'Feb'])\n",
        "  return metrics\n",
        "\n",
        "scatter_day_data_in_year(pressure_data['A04'], weather_data['MeteoTB2'], 2017)\n",
        "# weather_data['MeteoCentral']\n"
      ],
      "metadata": {
        "colab": {
          "base_uri": "https://localhost:8080/",
          "height": 434
        },
        "id": "ne_xoTsOaffJ",
        "outputId": "19ac0d2e-3834-411d-c9ae-998e357cb845"
      },
      "execution_count": 21,
      "outputs": [
        {
          "output_type": "execute_result",
          "data": {
            "text/plain": [
              "     r_squared       MSE\n",
              "Jan   0.156068  0.019384\n",
              "Feb   0.749953  0.000132"
            ],
            "text/html": [
              "\n",
              "  <div id=\"df-86982abe-81a5-486c-bc33-84b2db3c5215\">\n",
              "    <div class=\"colab-df-container\">\n",
              "      <div>\n",
              "<style scoped>\n",
              "    .dataframe tbody tr th:only-of-type {\n",
              "        vertical-align: middle;\n",
              "    }\n",
              "\n",
              "    .dataframe tbody tr th {\n",
              "        vertical-align: top;\n",
              "    }\n",
              "\n",
              "    .dataframe thead th {\n",
              "        text-align: right;\n",
              "    }\n",
              "</style>\n",
              "<table border=\"1\" class=\"dataframe\">\n",
              "  <thead>\n",
              "    <tr style=\"text-align: right;\">\n",
              "      <th></th>\n",
              "      <th>r_squared</th>\n",
              "      <th>MSE</th>\n",
              "    </tr>\n",
              "  </thead>\n",
              "  <tbody>\n",
              "    <tr>\n",
              "      <th>Jan</th>\n",
              "      <td>0.156068</td>\n",
              "      <td>0.019384</td>\n",
              "    </tr>\n",
              "    <tr>\n",
              "      <th>Feb</th>\n",
              "      <td>0.749953</td>\n",
              "      <td>0.000132</td>\n",
              "    </tr>\n",
              "  </tbody>\n",
              "</table>\n",
              "</div>\n",
              "      <button class=\"colab-df-convert\" onclick=\"convertToInteractive('df-86982abe-81a5-486c-bc33-84b2db3c5215')\"\n",
              "              title=\"Convert this dataframe to an interactive table.\"\n",
              "              style=\"display:none;\">\n",
              "        \n",
              "  <svg xmlns=\"http://www.w3.org/2000/svg\" height=\"24px\"viewBox=\"0 0 24 24\"\n",
              "       width=\"24px\">\n",
              "    <path d=\"M0 0h24v24H0V0z\" fill=\"none\"/>\n",
              "    <path d=\"M18.56 5.44l.94 2.06.94-2.06 2.06-.94-2.06-.94-.94-2.06-.94 2.06-2.06.94zm-11 1L8.5 8.5l.94-2.06 2.06-.94-2.06-.94L8.5 2.5l-.94 2.06-2.06.94zm10 10l.94 2.06.94-2.06 2.06-.94-2.06-.94-.94-2.06-.94 2.06-2.06.94z\"/><path d=\"M17.41 7.96l-1.37-1.37c-.4-.4-.92-.59-1.43-.59-.52 0-1.04.2-1.43.59L10.3 9.45l-7.72 7.72c-.78.78-.78 2.05 0 2.83L4 21.41c.39.39.9.59 1.41.59.51 0 1.02-.2 1.41-.59l7.78-7.78 2.81-2.81c.8-.78.8-2.07 0-2.86zM5.41 20L4 18.59l7.72-7.72 1.47 1.35L5.41 20z\"/>\n",
              "  </svg>\n",
              "      </button>\n",
              "      \n",
              "  <style>\n",
              "    .colab-df-container {\n",
              "      display:flex;\n",
              "      flex-wrap:wrap;\n",
              "      gap: 12px;\n",
              "    }\n",
              "\n",
              "    .colab-df-convert {\n",
              "      background-color: #E8F0FE;\n",
              "      border: none;\n",
              "      border-radius: 50%;\n",
              "      cursor: pointer;\n",
              "      display: none;\n",
              "      fill: #1967D2;\n",
              "      height: 32px;\n",
              "      padding: 0 0 0 0;\n",
              "      width: 32px;\n",
              "    }\n",
              "\n",
              "    .colab-df-convert:hover {\n",
              "      background-color: #E2EBFA;\n",
              "      box-shadow: 0px 1px 2px rgba(60, 64, 67, 0.3), 0px 1px 3px 1px rgba(60, 64, 67, 0.15);\n",
              "      fill: #174EA6;\n",
              "    }\n",
              "\n",
              "    [theme=dark] .colab-df-convert {\n",
              "      background-color: #3B4455;\n",
              "      fill: #D2E3FC;\n",
              "    }\n",
              "\n",
              "    [theme=dark] .colab-df-convert:hover {\n",
              "      background-color: #434B5C;\n",
              "      box-shadow: 0px 1px 3px 1px rgba(0, 0, 0, 0.15);\n",
              "      filter: drop-shadow(0px 1px 2px rgba(0, 0, 0, 0.3));\n",
              "      fill: #FFFFFF;\n",
              "    }\n",
              "  </style>\n",
              "\n",
              "      <script>\n",
              "        const buttonEl =\n",
              "          document.querySelector('#df-86982abe-81a5-486c-bc33-84b2db3c5215 button.colab-df-convert');\n",
              "        buttonEl.style.display =\n",
              "          google.colab.kernel.accessAllowed ? 'block' : 'none';\n",
              "\n",
              "        async function convertToInteractive(key) {\n",
              "          const element = document.querySelector('#df-86982abe-81a5-486c-bc33-84b2db3c5215');\n",
              "          const dataTable =\n",
              "            await google.colab.kernel.invokeFunction('convertToInteractive',\n",
              "                                                     [key], {});\n",
              "          if (!dataTable) return;\n",
              "\n",
              "          const docLinkHtml = 'Like what you see? Visit the ' +\n",
              "            '<a target=\"_blank\" href=https://colab.research.google.com/notebooks/data_table.ipynb>data table notebook</a>'\n",
              "            + ' to learn more about interactive tables.';\n",
              "          element.innerHTML = '';\n",
              "          dataTable['output_type'] = 'display_data';\n",
              "          await google.colab.output.renderOutput(dataTable, element);\n",
              "          const docLink = document.createElement('div');\n",
              "          docLink.innerHTML = docLinkHtml;\n",
              "          element.appendChild(docLink);\n",
              "        }\n",
              "      </script>\n",
              "    </div>\n",
              "  </div>\n",
              "  "
            ]
          },
          "metadata": {},
          "execution_count": 21
        },
        {
          "output_type": "display_data",
          "data": {
            "text/plain": [
              "<Figure size 1152x324 with 2 Axes>"
            ],
            "image/png": "[encoded data removed]"
          },
          "metadata": {
            "needs_background": "light"
          }
        }
      ]
    },
    {
      "cell_type": "code",
      "source": [
        "def plot_day_data_in_year(df, year):\n",
        "  year_data = df[df['year'] == year]\n",
        "  fig, axes = plt.subplots(2, 1, figsize=(16, 4.5), sharex=True, sharey=True)\n",
        "  for month in range(1, 3):\n",
        "    month_data = year_data[year_data['month'] == month][['day', 'hour', 'Data']]\n",
        "    daily_min = month_data.groupby(['day', 'hour']).min()\n",
        "    daily_max = month_data.groupby(['day', 'hour']).max()\n",
        "    daily_median = month_data.groupby(['day', 'hour']).median()\n",
        "    daily_variance = month_data.groupby(['day', 'hour']).var()\n",
        "    plot = sns.lineplot(ax=axes[month-1], data=daily_median, x='day', y='Data')\n",
        "    # plot.set_xticks(range(1,len(daily_median))) # <--- set the ticks first\n",
        "    axes[month-1].set_title(\"2017-0\"+str(month))\n",
        "    axes[month-1].set(xlabel=\"day\")\n",
        "    axes[month-1].set(ylabel=\"pressure \")\n",
        "    \n",
        "  fig.suptitle('A04: Hourly Pressure Median in 2017 Jan, Feb', fontsize = 15)\n",
        "plot_day_data_in_year(pressure_data['A04'], 2017)\n",
        "# weather_data['MeteoCentral']"
      ],
      "metadata": {
        "id": "3fSITbon8Wr8",
        "colab": {
          "base_uri": "https://localhost:8080/",
          "height": 339
        },
        "outputId": "8368f977-edff-43e5-adda-c9d1ce3dddf1"
      },
      "execution_count": 22,
      "outputs": [
        {
          "output_type": "display_data",
          "data": {
            "text/plain": [
              "<Figure size 1152x324 with 2 Axes>"
            ],
            "image/png": "[encoded data removed]"
          },
          "metadata": {
            "needs_background": "light"
          }
        }
      ]
    },
    {
      "cell_type": "code",
      "source": [],
      "metadata": {
        "id": "HIVich4IP95D"
      },
      "execution_count": null,
      "outputs": []
    }
  ]
}